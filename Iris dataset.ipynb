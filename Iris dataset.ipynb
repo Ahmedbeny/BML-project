{
 "cells": [
  {
   "cell_type": "code",
   "execution_count": 1,
   "metadata": {},
   "outputs": [],
   "source": [
    "from sklearn import datasets\n",
    "import numpy as np\n",
    "import random\n",
    "from math import *\n",
    "from tqdm.notebook import tqdm\n",
    "import matplotlib.pyplot as plt"
   ]
  },
  {
   "cell_type": "markdown",
   "metadata": {},
   "source": [
    "### Stochastique Gradient Langevin Dynamics for logistic regression"
   ]
  },
  {
   "cell_type": "code",
   "execution_count": 2,
   "metadata": {},
   "outputs": [],
   "source": [
    "def mini_batch(Num_sample,batch_size):\n",
    "  '''\n",
    "  Inputs:\n",
    "    Num_sample: number of total samples\n",
    "    batch_size: the length of the mini_batch\n",
    "  ------------------------------------------------\n",
    "  outputs:\n",
    "    list_mini_batch: list containing mini_batches' lists\n",
    "  '''\n",
    "  L=list(np.arange(Num_sample))\n",
    "  list_mini_batch=[]\n",
    "  while len(L)>batch_size:  \n",
    "    batch=list(np.random.choice(L, batch_size, replace=False))\n",
    "    list_mini_batch.append(batch)\n",
    "    res = [i for i in L if i not in batch]\n",
    "    L=res\n",
    "  if L!=[]:\n",
    "    list_mini_batch.append(L)\n",
    "  return(list_mini_batch)\n",
    "\n",
    "def sigmoid(z):\n",
    "  return(1/(1 + np.exp(-z)))\n",
    "\n",
    "def prior_grad(theta):\n",
    "  '''\n",
    "  This function computes the gradient of the prior funtion at theta\n",
    "  '''\n",
    "  return(-1*np.sign(theta))\n",
    "\n",
    "def lk_hood_grad(x,theta):\n",
    "  '''\n",
    "  This function computes the gradient of the likelihood of x for the parameter theta\n",
    "  '''\n",
    "  grad=sigmoid(-1*x[1]*np.inner(theta,x[0]))*x[1]*x[0]\n",
    "  return(grad)\n",
    "\n",
    "def step_update(theta,mini_batch,data):\n",
    "    likelihood_grad=sum([lk_hood_grad(data[i],theta) for i in mini_batch])*(len(data)/len(mini_batch))\n",
    "    new_step=prior_grad(theta) + likelihood_grad\n",
    "    return(new_step)\n",
    "    \n",
    "def eps_t(t):\n",
    "  ''' \n",
    "  this function computes the value of the rate epsilon at instant t\n",
    "  '''\n",
    "  return(a/((b+t)**(gamma)))\n",
    "\n",
    "def Stoc_lang_grad(data,batch_size,len_feature,num_repet,num_run):\n",
    "  '''\n",
    "  This function applies the Stochastic Gradient Langevin Dynamics\n",
    "  ----------------------------------------------------------------\n",
    "  inputs:\n",
    "   data:\n",
    "   batch size: integer\n",
    "   num_repet: number of sweeps through the whole data\n",
    "   num_run: number of run \n",
    "   len_feature: the legth of the learned vector\n",
    "  ----------------------------------------------------------------\n",
    "  outputs: list of the learned vector during iterations\n",
    "\n",
    "  '''\n",
    "  Num_sample=len(data)\n",
    "  theta_final_list=[]\n",
    "  for run in tqdm(range(num_run)):\n",
    "    list_mini_batch=mini_batch(Num_sample,batch_size)\n",
    "    j=0\n",
    "    theta_list=[np.random.rand(len_feature)]\n",
    "    for i in range(1,num_repet* len(list_mini_batch)+1):\n",
    "      theta= theta_list[-1] + (0.5*eps_t(i)*(step_update(theta_list[-1],list_mini_batch[j],data)+ np.random.normal(0,sqrt(eps_t(i)),size=len_feature)))\n",
    "      if j< (len(list_mini_batch)-1):\n",
    "        j+=1\n",
    "      else:\n",
    "        j=0\n",
    "      theta_list.append(theta)\n",
    "    theta_final_list.append(theta_list)\n",
    "  return(np.sum(theta_final_list,axis=0)/num_run)\n",
    "\n"
   ]
  },
  {
   "cell_type": "markdown",
   "metadata": {},
   "source": [
    "###  Iris data importing"
   ]
  },
  {
   "cell_type": "code",
   "execution_count": 13,
   "metadata": {},
   "outputs": [
    {
     "data": {
      "text/plain": [
       "<matplotlib.legend.Legend at 0x1a3761ade88>"
      ]
     },
     "execution_count": 13,
     "metadata": {},
     "output_type": "execute_result"
    },
    {
     "data": {
      "image/png": "[encoded data removed]",
      "text/plain": [
       "<Figure size 720x432 with 1 Axes>"
      ]
     },
     "metadata": {
      "needs_background": "light"
     },
     "output_type": "display_data"
    }
   ],
   "source": [
    "# import some data to play with\n",
    "iris = datasets.load_iris()\n",
    "X = iris.data[:, :2]  # we only take the first two features.\n",
    "y = (iris.target != 0) * 1 # re-étiquetage des fleurs\n",
    "y=2*y - 1\n",
    "#visualisation des données\n",
    "plt.figure(figsize=(10, 6))\n",
    "plt.scatter(X[y == -1][:, 0], X[y == -1][:, 1], color='g', label='-1')\n",
    "plt.scatter(X[y == 1][:, 0], X[y == 1][:, 1], color='y', label='1')\n",
    "plt.title('Two classes of Iris data')\n",
    "plt.legend()"
   ]
  },
  {
   "cell_type": "markdown",
   "metadata": {},
   "source": [
    "### Data prepocessing"
   ]
  },
  {
   "cell_type": "code",
   "execution_count": 4,
   "metadata": {},
   "outputs": [],
   "source": [
    "\n",
    "perc=80 # percentage of data used for training\n",
    "\n",
    "negative_ind=list(np.where(y==-1)[0])\n",
    "num_neg_train=len(negative_ind)*perc//100\n",
    "train_neg_ind,test_neg_ind=negative_ind[:num_neg_train],negative_ind[num_neg_train:]\n",
    "\n",
    "positive_ind=list(np.where(y==1)[0])\n",
    "num_pos_train=len(positive_ind)*perc//100\n",
    "train_pos_ind,test_pos_ind=positive_ind[:num_pos_train],positive_ind[num_pos_train:]\n",
    "\n",
    "train_ind=train_neg_ind + train_pos_ind\n",
    "test_ind=test_neg_ind + test_pos_ind  \n",
    "\n",
    "xTrain,yTrain=[X[i] for i in train_ind],[y[i] for i in train_ind]\n",
    "xTest,yTest=[X[i] for i in test_ind],[y[i] for i in test_ind]\n",
    "train_data=[[np.array(xTrain[i]),int(yTrain[i])] for i in range(len(xTrain))]\n",
    "test_data=[[np.array(xTest[i]),int(yTest[i])] for i in range(len(xTest))]\n"
   ]
  },
  {
   "cell_type": "markdown",
   "metadata": {},
   "source": [
    "###  Learning"
   ]
  },
  {
   "cell_type": "code",
   "execution_count": 5,
   "metadata": {},
   "outputs": [
    {
     "data": {
      "application/vnd.jupyter.widget-view+json": {
       "model_id": "2ed4641873004121a247064bbc38c5ed",
       "version_major": 2,
       "version_minor": 0
      },
      "text/plain": [
       "  0%|          | 0/5000 [00:00<?, ?it/s]"
      ]
     },
     "metadata": {},
     "output_type": "display_data"
    }
   ],
   "source": [
    "#Parameter of the learning rate\n",
    "a=0.05\n",
    "b=10\n",
    "gamma=0.55\n",
    "\n",
    "#parameter of learning\n",
    "batch_size=10\n",
    "num_run=5000\n",
    "num_repet=10\n",
    "len_feature=2\n",
    "\n",
    "#list of the learned vector during the learning\n",
    "beta_list_iris=Stoc_lang_grad(train_data,batch_size,len_feature,num_repet,num_run)"
   ]
  },
  {
   "cell_type": "markdown",
   "metadata": {},
   "source": [
    "###  Evaluation"
   ]
  },
  {
   "cell_type": "code",
   "execution_count": 10,
   "metadata": {},
   "outputs": [],
   "source": [
    "# Accuracy computing\n",
    "def accuracy(xTest, yTest,beta):\n",
    "  Y_algo=np.array([np.sign(2*sigmoid(np.sum(beta*i))-1) for i in xTest])\n",
    "  Y_=np.zeros_like(yTest)\n",
    "  Y_[Y_algo.astype(int)==yTest]=1\n",
    "  return(np.sum(Y_)/len(Y_))"
   ]
  },
  {
   "cell_type": "code",
   "execution_count": 14,
   "metadata": {},
   "outputs": [
    {
     "data": {
      "image/png": "[encoded data removed]",
      "text/plain": [
       "<Figure size 432x288 with 1 Axes>"
      ]
     },
     "metadata": {
      "needs_background": "light"
     },
     "output_type": "display_data"
    }
   ],
   "source": [
    "# testing on the Test dataset\n",
    "Sweep_duration=len(mini_batch(len(xTrain),batch_size))\n",
    "test_accuracy=[accuracy(xTest, yTest,beta) for beta in beta_list_iris[1::Sweep_duration]]\n",
    "plt.xlabel('Number of sweeps of the whole data ')\n",
    "plt.ylabel('Accuracy')\n",
    "plt.plot(np.arange(len(test_accuracy)),test_accuracy)\n",
    "plt.title('Accuracy on test set as a function of number of sweeps throug the whole dataset')\n",
    "plt.show()"
   ]
  },
  {
   "cell_type": "code",
   "execution_count": null,
   "metadata": {},
   "outputs": [],
   "source": []
  }
 ],
 "metadata": {
  "kernelspec": {
   "display_name": "Python 3",
   "language": "python",
   "name": "python3"
  },
  "language_info": {
   "codemirror_mode": {
    "name": "ipython",
    "version": 3
   },
   "file_extension": ".py",
   "mimetype": "text/x-python",
   "name": "python",
   "nbconvert_exporter": "python",
   "pygments_lexer": "ipython3",
   "version": "3.7.6"
  }
 },
 "nbformat": 4,
 "nbformat_minor": 4
}
