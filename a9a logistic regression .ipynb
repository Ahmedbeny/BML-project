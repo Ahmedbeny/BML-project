{
 "cells": [
  {
   "cell_type": "code",
   "execution_count": 1,
   "metadata": {},
   "outputs": [],
   "source": [
    "import numpy as np\n",
    "import random\n",
    "from math import *\n",
    "from tqdm.notebook import tqdm\n",
    "import matplotlib.pyplot as plt"
   ]
  },
  {
   "cell_type": "markdown",
   "metadata": {},
   "source": [
    "### Stochastique Gradient Langevin Dynamics for logistic regression"
   ]
  },
  {
   "cell_type": "code",
   "execution_count": 7,
   "metadata": {},
   "outputs": [],
   "source": [
    "def mini_batch(Num_sample,batch_size):\n",
    "  '''\n",
    "  Inputs:\n",
    "    Num_sample: number of total samples\n",
    "    batch_size: the length of the mini_batch\n",
    "  ------------------------------------------------\n",
    "  outputs:\n",
    "    list_mini_batch: list containing mini_batches' lists\n",
    "  '''\n",
    "  L=list(np.arange(Num_sample))\n",
    "  list_mini_batch=[]\n",
    "  while len(L)>batch_size:  \n",
    "    batch=list(np.random.choice(L, batch_size, replace=False))\n",
    "    list_mini_batch.append(batch)\n",
    "    res = [i for i in L if i not in batch]\n",
    "    L=res\n",
    "  if L!=[]:\n",
    "    list_mini_batch.append(L)\n",
    "  return(list_mini_batch)\n",
    "\n",
    "def sigmoid(z):\n",
    "  return(1/(1 + np.exp(-z)))\n",
    "\n",
    "def prior_grad(theta):\n",
    "  '''\n",
    "  This function computes the gradient of the prior funtion at theta\n",
    "  '''\n",
    "  return(-1*np.sign(theta))\n",
    "\n",
    "def lk_hood_grad(x,theta):\n",
    "  '''\n",
    "  This function computes the gradient of the likelihood of x for the parameter theta\n",
    "  '''\n",
    "  grad=sigmoid(-1*x[1]*np.inner(theta,x[0]))*x[1]*x[0]\n",
    "  return(grad)\n",
    "\n",
    "def step_update(theta,mini_batch,data):\n",
    "    likelihood_grad=sum([lk_hood_grad(data[i],theta) for i in mini_batch])*(len(data)/len(mini_batch))\n",
    "    new_step=prior_grad(theta) + likelihood_grad\n",
    "    return(new_step)\n",
    "    \n",
    "def eps_t(t):\n",
    "  ''' \n",
    "  this function computes the value of the rate epsilon at instant t\n",
    "  '''\n",
    "  return(a/((b+t)**(gamma)))\n",
    "\n",
    "def Stoc_lang_grad(data,batch_size,len_feature,num_repet,num_run):\n",
    "  '''\n",
    "  This function applies the Stochastic Gradient Langevin Dynamics\n",
    "  ----------------------------------------------------------------\n",
    "  inputs:\n",
    "   data:\n",
    "   batch size: integer\n",
    "   num_repet: number of sweeps through the whole data\n",
    "   num_run: number of run \n",
    "   len_feature: the legth of the learned vector\n",
    "  ----------------------------------------------------------------\n",
    "  outputs: list of the learned vector during iterations\n",
    "\n",
    "  '''\n",
    "  Num_sample=len(data)\n",
    "  theta_final_list=[]\n",
    "  for run in tqdm(range(num_run)):\n",
    "    list_mini_batch=mini_batch(Num_sample,batch_size)\n",
    "    j=0\n",
    "    theta_list=[np.random.rand(len_feature)]\n",
    "    for i in range(1,num_repet* len(list_mini_batch)+1):\n",
    "      theta= theta_list[-1] + (0.5*eps_t(i)*(step_update(theta_list[-1],list_mini_batch[j],data)+ np.random.normal(0,sqrt(eps_t(i)),size=len_feature)))\n",
    "      if j< (len(list_mini_batch)-1):\n",
    "        j+=1\n",
    "      else:\n",
    "        j=0\n",
    "      theta_list.append(theta)\n",
    "    theta_final_list.append(theta_list)\n",
    "  return(np.sum(theta_final_list,axis=0)/num_run)\n"
   ]
  },
  {
   "cell_type": "markdown",
   "metadata": {},
   "source": [
    "### Getting the a9a dataset and processing it\n"
   ]
  },
  {
   "cell_type": "code",
   "execution_count": 4,
   "metadata": {},
   "outputs": [],
   "source": [
    "# Parser\n",
    "def parser(filepath):\n",
    "    with open(filepath, 'r') as file:\n",
    "        lines = file.readlines()\n",
    "    x = np.zeros((len(lines), 124))\n",
    "    y = np.ones(len(lines))\n",
    "    i = 0\n",
    "    for line in lines:\n",
    "        data = line.strip().split()\n",
    "        y[i] = int(data[0])\n",
    "        data = data[1:]\n",
    "        for dataFeat in data:\n",
    "            feat = dataFeat.split(':')\n",
    "            x[i, int(feat[0])] = 1.0\n",
    "        i += 1\n",
    "    return x, y\n",
    "\n",
    "# Training: a9a/a9a / Test: a9a/a9a.t\n",
    "datasetPath = []\n",
    "datasetPath.append('a9a')\n",
    "datasetPath.append('a9a.t')\n",
    "\n",
    "# Parser dataset\n",
    "\n",
    "xTrain, yTrain = parser(datasetPath[0])\n",
    "xTest, yTest = parser(datasetPath[1])\n",
    "train_data=[[np.array(xTrain[i]).astype(int),int(yTrain[i])] for i in range(len(xTrain))]\n",
    "test_data=[[np.array(xTest[i]).astype(int),int(yTest[i])] for i in range(len(xTest))]"
   ]
  },
  {
   "cell_type": "markdown",
   "metadata": {},
   "source": [
    "###  Learning"
   ]
  },
  {
   "cell_type": "code",
   "execution_count": 8,
   "metadata": {
    "collapsed": true
   },
   "outputs": [
    {
     "data": {
      "application/vnd.jupyter.widget-view+json": {
       "model_id": "b498484d41c74e1aa94ac357f74edcb8",
       "version_major": 2,
       "version_minor": 0
      },
      "text/plain": [
       "  0%|          | 0/22 [00:00<?, ?it/s]"
      ]
     },
     "metadata": {},
     "output_type": "display_data"
    },
    {
     "name": "stderr",
     "output_type": "stream",
     "text": [
      "C:\\Users\\benya\\anaconda3\\lib\\site-packages\\ipykernel_launcher.py:22: RuntimeWarning: overflow encountered in exp\n"
     ]
    }
   ],
   "source": [
    "#parameter of the learning rate\n",
    "a=0.05\n",
    "b=10\n",
    "gamma=0.55\n",
    "\n",
    "#hyperparameters of learning\n",
    "batch_size=3\n",
    "num_run=22\n",
    "num_repet=5\n",
    "\n",
    "\n",
    "len_feature=124 # the length of the learned vector\n",
    "\n",
    "#list of the learned vector during the learning\n",
    "beta_list=Stoc_lang_grad(train_data,batch_size,len_feature,num_repet,num_run)"
   ]
  },
  {
   "cell_type": "markdown",
   "metadata": {},
   "source": [
    "###  Evaluation"
   ]
  },
  {
   "cell_type": "code",
   "execution_count": 9,
   "metadata": {},
   "outputs": [],
   "source": [
    "# Accuracy computing\n",
    "def accuracy(xTest, yTest,beta):\n",
    "  Y_algo=np.array([np.sign(2*sigmoid(np.sum(beta*i))-1) for i in xTest])\n",
    "  Y_=np.zeros_like(yTest)\n",
    "  Y_[Y_algo.astype(int)==yTest.astype(int)]=1\n",
    "  return(np.sum(Y_)/len(Y_))"
   ]
  },
  {
   "cell_type": "code",
   "execution_count": 11,
   "metadata": {},
   "outputs": [
    {
     "data": {
      "image/png": "[encoded data removed]",
      "text/plain": [
       "<Figure size 432x288 with 1 Axes>"
      ]
     },
     "metadata": {
      "needs_background": "light"
     },
     "output_type": "display_data"
    }
   ],
   "source": [
    "# testing on the Test dataset\n",
    "Sweep_duration=len(mini_batch(len(xTrain),batch_size))\n",
    "\n",
    "Betas=beta_list[0::Sweep_duration]# we see Beta only at the top of each sweep\n",
    "test_accuracy=[accuracy(xTest, yTest,beta) for beta in Betas]\n",
    "plt.xlabel('Number of sweeps through the hole dataset')\n",
    "plt.ylabel('Accuracy')\n",
    "plt.plot(np.arange(len(test_accuracy)),test_accuracy)\n",
    "plt.title('Accuracy on test set as a function of number of sweeps throug the whole dataset')\n",
    "plt.show()"
   ]
  },
  {
   "cell_type": "code",
   "execution_count": null,
   "metadata": {},
   "outputs": [],
   "source": []
  }
 ],
 "metadata": {
  "kernelspec": {
   "display_name": "Python 3",
   "language": "python",
   "name": "python3"
  },
  "language_info": {
   "codemirror_mode": {
    "name": "ipython",
    "version": 3
   },
   "file_extension": ".py",
   "mimetype": "text/x-python",
   "name": "python",
   "nbconvert_exporter": "python",
   "pygments_lexer": "ipython3",
   "version": "3.7.6"
  }
 },
 "nbformat": 4,
 "nbformat_minor": 4
}
